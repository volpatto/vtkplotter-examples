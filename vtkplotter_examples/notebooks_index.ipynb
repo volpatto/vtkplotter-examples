{
 "cells": [
  {
   "cell_type": "markdown",
   "metadata": {},
   "source": [
    "# Notebooks Examples Index\n"
   ]
  },
  {
   "cell_type": "code",
   "execution_count": 14,
   "metadata": {},
   "outputs": [
    {
     "data": {
      "text/markdown": [
       "- <a href='advanced/convexHull.ipynb' target='_blank'>advanced/convexHull.ipynb</a>\n",
       "- <a href='advanced/thinplate_grid.ipynb' target='_blank'>advanced/thinplate_grid.ipynb</a>\n",
       "- <a href='notebooks/draw_points.ipynb' target='_blank'>notebooks/draw_points.ipynb</a>\n",
       "- <a href='notebooks/embryo.ipynb' target='_blank'>notebooks/embryo.ipynb</a>\n",
       "- <a href='notebooks/manipulate_camera.ipynb' target='_blank'>notebooks/manipulate_camera.ipynb</a>\n",
       "- <a href='notebooks/sphere.ipynb' target='_blank'>notebooks/sphere.ipynb</a>\n",
       "- <a href='notebooks/test_itkwidgets.ipynb' target='_blank'>notebooks/test_itkwidgets.ipynb</a>\n",
       "- <a href='other/printc.ipynb' target='_blank'>other/printc.ipynb</a>\n",
       "- <a href='other/qt_window.ipynb' target='_blank'>other/qt_window.ipynb</a>\n",
       "- <a href='other/sierpinski.ipynb' target='_blank'>other/sierpinski.ipynb</a>\n",
       "- <a href='other/value-iteration.ipynb' target='_blank'>other/value-iteration.ipynb</a>\n",
       "- <a href='simulations/gray_scott.ipynb' target='_blank'>simulations/gray_scott.ipynb</a>\n",
       "- <a href='simulations/volterra.ipynb' target='_blank'>simulations/volterra.ipynb</a>"
      ],
      "text/plain": [
       "<IPython.core.display.Markdown object>"
      ]
     },
     "execution_count": 14,
     "metadata": {},
     "output_type": "execute_result"
    }
   ],
   "source": [
    "from IPython.display import Markdown\n",
    "from glob import glob\n",
    "\n",
    "l1 = \"\\n\".join([\"- <a href='{1}' target='_blank'>{0}</a>\".format(x,x) for x in sorted(glob(\"*/*.ipynb\"))])\n",
    "l2 = \"\\n\".join([\"-  <a href='{1}' target='_blank'>{0}</a>\".format(x,x) for x in sorted(glob(\"*/*/*.ipynb\"))])\n",
    "l3 = \"\\n\".join([\"-  <a href='{1}' target='_blank'>{0}</a>\".format(x,x) for x in sorted(glob(\"*/*/*/*.ipynb\"))])\n",
    "Markdown(l1)"
   ]
  },
  {
   "cell_type": "code",
   "execution_count": 15,
   "metadata": {},
   "outputs": [
    {
     "data": {
      "text/markdown": [
       "-  <a href='basic/notebooks/align1.ipynb' target='_blank'>basic/notebooks/align1.ipynb</a>\n",
       "-  <a href='basic/notebooks/align2.ipynb' target='_blank'>basic/notebooks/align2.ipynb</a>\n",
       "-  <a href='basic/notebooks/buildmesh.ipynb' target='_blank'>basic/notebooks/buildmesh.ipynb</a>\n",
       "-  <a href='basic/notebooks/clustering.ipynb' target='_blank'>basic/notebooks/clustering.ipynb</a>\n",
       "-  <a href='basic/notebooks/connVtx.ipynb' target='_blank'>basic/notebooks/connVtx.ipynb</a>\n",
       "-  <a href='basic/notebooks/distance2mesh.ipynb' target='_blank'>basic/notebooks/distance2mesh.ipynb</a>\n",
       "-  <a href='basic/notebooks/fitline.ipynb' target='_blank'>basic/notebooks/fitline.ipynb</a>\n",
       "-  <a href='basic/notebooks/mirror.ipynb' target='_blank'>basic/notebooks/mirror.ipynb</a>\n",
       "-  <a href='basic/notebooks/noname.ipynb' target='_blank'>basic/notebooks/noname.ipynb</a>\n",
       "-  <a href='basic/notebooks/pca.ipynb' target='_blank'>basic/notebooks/pca.ipynb</a>\n",
       "-  <a href='basic/notebooks/shadow.ipynb' target='_blank'>basic/notebooks/shadow.ipynb</a>\n",
       "-  <a href='basic/notebooks/shrink.ipynb' target='_blank'>basic/notebooks/shrink.ipynb</a>\n",
       "-  <a href='other/trimesh/first_example.ipynb' target='_blank'>other/trimesh/first_example.ipynb</a>\n",
       "-  <a href='other/trimesh/ray.ipynb' target='_blank'>other/trimesh/ray.ipynb</a>\n",
       "-  <a href='other/trimesh/section.ipynb' target='_blank'>other/trimesh/section.ipynb</a>\n",
       "-  <a href='other/trimesh/shortest.ipynb' target='_blank'>other/trimesh/shortest.ipynb</a>\n",
       "-  <a href='pyplot/notebooks/customAxes.ipynb' target='_blank'>pyplot/notebooks/customAxes.ipynb</a>\n",
       "-  <a href='pyplot/notebooks/histo_1D.ipynb' target='_blank'>pyplot/notebooks/histo_1D.ipynb</a>\n",
       "-  <a href='pyplot/notebooks/histo_2D.ipynb' target='_blank'>pyplot/notebooks/histo_2D.ipynb</a>\n",
       "-  <a href='pyplot/notebooks/histo_polar.ipynb' target='_blank'>pyplot/notebooks/histo_polar.ipynb</a>\n",
       "-  <a href='pyplot/notebooks/latex.ipynb' target='_blank'>pyplot/notebooks/latex.ipynb</a>\n",
       "-  <a href='pyplot/notebooks/plot1_errbars.ipynb' target='_blank'>pyplot/notebooks/plot1_errbars.ipynb</a>\n",
       "-  <a href='pyplot/notebooks/plot2_errband.ipynb' target='_blank'>pyplot/notebooks/plot2_errband.ipynb</a>\n",
       "-  <a href='pyplot/notebooks/plot4_fxy.ipynb' target='_blank'>pyplot/notebooks/plot4_fxy.ipynb</a>\n",
       "-  <a href='pyplot/notebooks/plot5_spheric.ipynb' target='_blank'>pyplot/notebooks/plot5_spheric.ipynb</a>\n",
       "-  <a href='pyplot/notebooks/plot6_polar.ipynb' target='_blank'>pyplot/notebooks/plot6_polar.ipynb</a>\n",
       "-  <a href='pyplot/notebooks/quiver.ipynb' target='_blank'>pyplot/notebooks/quiver.ipynb</a>\n",
       "-  <a href='pyplot/notebooks/scatter1.ipynb' target='_blank'>pyplot/notebooks/scatter1.ipynb</a>\n",
       "-  <a href='pyplot/notebooks/scatter2.ipynb' target='_blank'>pyplot/notebooks/scatter2.ipynb</a>\n",
       "-  <a href='pyplot/notebooks/scatter3.ipynb' target='_blank'>pyplot/notebooks/scatter3.ipynb</a>\n",
       "-  <a href='volumetric/notebooks/interpolateVolume.ipynb' target='_blank'>volumetric/notebooks/interpolateVolume.ipynb</a>\n",
       "-  <a href='volumetric/notebooks/isosurfaces2.ipynb' target='_blank'>volumetric/notebooks/isosurfaces2.ipynb</a>\n",
       "-  <a href='volumetric/notebooks/legosurface.ipynb' target='_blank'>volumetric/notebooks/legosurface.ipynb</a>\n",
       "-  <a href='volumetric/notebooks/numpy2volume.ipynb' target='_blank'>volumetric/notebooks/numpy2volume.ipynb</a>\n",
       "-  <a href='volumetric/notebooks/office.ipynb' target='_blank'>volumetric/notebooks/office.ipynb</a>\n",
       "-  <a href='volumetric/notebooks/probeLine.ipynb' target='_blank'>volumetric/notebooks/probeLine.ipynb</a>\n",
       "-  <a href='volumetric/notebooks/streamlines2.ipynb' target='_blank'>volumetric/notebooks/streamlines2.ipynb</a>\n",
       "-  <a href='volumetric/notebooks/streamribbons.ipynb' target='_blank'>volumetric/notebooks/streamribbons.ipynb</a>\n",
       "-  <a href='volumetric/notebooks/tensors.ipynb' target='_blank'>volumetric/notebooks/tensors.ipynb</a>"
      ],
      "text/plain": [
       "<IPython.core.display.Markdown object>"
      ]
     },
     "execution_count": 15,
     "metadata": {},
     "output_type": "execute_result"
    }
   ],
   "source": [
    "Markdown(l2)"
   ]
  },
  {
   "cell_type": "code",
   "execution_count": 16,
   "metadata": {},
   "outputs": [
    {
     "data": {
      "text/markdown": [
       "-  <a href='other/dolfin/notebooks/demo_cahn-hilliard.ipynb' target='_blank'>other/dolfin/notebooks/demo_cahn-hilliard.ipynb</a>\n",
       "-  <a href='other/dolfin/notebooks/demo_submesh.ipynb' target='_blank'>other/dolfin/notebooks/demo_submesh.ipynb</a>\n",
       "-  <a href='other/dolfin/notebooks/elasticbeam.ipynb' target='_blank'>other/dolfin/notebooks/elasticbeam.ipynb</a>\n",
       "-  <a href='other/dolfin/notebooks/ex03_poisson.ipynb' target='_blank'>other/dolfin/notebooks/ex03_poisson.ipynb</a>\n",
       "-  <a href='other/dolfin/notebooks/ex04_mixed-poisson.ipynb' target='_blank'>other/dolfin/notebooks/ex04_mixed-poisson.ipynb</a>\n",
       "-  <a href='other/dolfin/notebooks/ex06_elasticity2.ipynb' target='_blank'>other/dolfin/notebooks/ex06_elasticity2.ipynb</a>\n",
       "-  <a href='other/dolfin/notebooks/ex07_stokes-iterative.ipynb' target='_blank'>other/dolfin/notebooks/ex07_stokes-iterative.ipynb</a>\n",
       "-  <a href='other/dolfin/notebooks/ft02_poisson_membrane.ipynb' target='_blank'>other/dolfin/notebooks/ft02_poisson_membrane.ipynb</a>\n",
       "-  <a href='other/dolfin/notebooks/magnetostatics.ipynb' target='_blank'>other/dolfin/notebooks/magnetostatics.ipynb</a>\n",
       "-  <a href='other/dolfin/notebooks/markmesh.ipynb' target='_blank'>other/dolfin/notebooks/markmesh.ipynb</a>\n",
       "-  <a href='other/dolfin/notebooks/stokes.ipynb' target='_blank'>other/dolfin/notebooks/stokes.ipynb</a>\n",
       "-  <a href='other/dolfin/notebooks/submesh_boundary.ipynb' target='_blank'>other/dolfin/notebooks/submesh_boundary.ipynb</a>"
      ],
      "text/plain": [
       "<IPython.core.display.Markdown object>"
      ]
     },
     "execution_count": 16,
     "metadata": {},
     "output_type": "execute_result"
    }
   ],
   "source": [
    "Markdown(l3)"
   ]
  },
  {
   "cell_type": "code",
   "execution_count": null,
   "metadata": {},
   "outputs": [],
   "source": []
  }
 ],
 "metadata": {
  "kernelspec": {
   "display_name": "Python 3",
   "language": "python",
   "name": "python3"
  },
  "language_info": {
   "codemirror_mode": {
    "name": "ipython",
    "version": 3
   },
   "file_extension": ".py",
   "mimetype": "text/x-python",
   "name": "python",
   "nbconvert_exporter": "python",
   "pygments_lexer": "ipython3",
   "version": "3.7.4"
  }
 },
 "nbformat": 4,
 "nbformat_minor": 1
}
